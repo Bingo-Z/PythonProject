{
 "cells": [
  {
   "metadata": {},
   "cell_type": "markdown",
   "source": "# Flask 学习",
   "id": "2cb78b29624ce01e"
  },
  {
   "metadata": {},
   "cell_type": "code",
   "outputs": [],
   "execution_count": null,
   "source": "Flask 是一个用 Python 编写的轻量级 Web 应用框架，Flask 支持 RESTful API 的开发",
   "id": "b7e0d1682742f2df"
  },
  {
   "metadata": {},
   "cell_type": "markdown",
   "source": "",
   "id": "e2b0aec188aad02a"
  },
  {
   "metadata": {},
   "cell_type": "markdown",
   "source": "## 1.demo0:创建第一个Flask应用",
   "id": "d908846f01ed10c4"
  },
  {
   "metadata": {},
   "cell_type": "code",
   "outputs": [],
   "execution_count": null,
   "source": "",
   "id": "af443022d98908c9"
  }
 ],
 "metadata": {
  "kernelspec": {
   "display_name": "Python 3",
   "language": "python",
   "name": "python3"
  },
  "language_info": {
   "codemirror_mode": {
    "name": "ipython",
    "version": 2
   },
   "file_extension": ".py",
   "mimetype": "text/x-python",
   "name": "python",
   "nbconvert_exporter": "python",
   "pygments_lexer": "ipython2",
   "version": "2.7.6"
  }
 },
 "nbformat": 4,
 "nbformat_minor": 5
}
