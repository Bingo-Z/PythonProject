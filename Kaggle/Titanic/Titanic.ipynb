{
 "cells": [
  {
   "cell_type": "markdown",
   "source": [
    "# Kaggle入门之Titanic"
   ],
   "metadata": {
    "collapsed": false
   },
   "id": "b3d1939622119fa5"
  },
  {
   "cell_type": "markdown",
   "source": [
    "## 1.下载数据"
   ],
   "metadata": {
    "collapsed": false
   },
   "id": "df0f8dcb68a453e0"
  },
  {
   "cell_type": "markdown",
   "source": [
    "官网下载3个csv文件\n",
    "    gender\n",
    "    test.csv\n",
    "    train.csv"
   ],
   "metadata": {
    "collapsed": false
   },
   "id": "de1be2a497845dfb"
  },
  {
   "cell_type": "markdown",
   "source": [
    "## 2.读取并加载数据"
   ],
   "metadata": {
    "collapsed": false
   },
   "id": "c36bb2862f529bcf"
  },
  {
   "cell_type": "code",
   "execution_count": 4,
   "outputs": [
    {
     "name": "stdout",
     "output_type": "stream",
     "text": [
      "   PassengerId  Survived  Pclass  \\\n",
      "0            1         0       3   \n",
      "1            2         1       1   \n",
      "2            3         1       3   \n",
      "3            4         1       1   \n",
      "4            5         0       3   \n",
      "\n",
      "                                                Name     Sex   Age  SibSp  \\\n",
      "0                            Braund, Mr. Owen Harris    male  22.0      1   \n",
      "1  Cumings, Mrs. John Bradley (Florence Briggs Th...  female  38.0      1   \n",
      "2                             Heikkinen, Miss. Laina  female  26.0      0   \n",
      "3       Futrelle, Mrs. Jacques Heath (Lily May Peel)  female  35.0      1   \n",
      "4                           Allen, Mr. William Henry    male  35.0      0   \n",
      "\n",
      "   Parch            Ticket     Fare Cabin Embarked  \n",
      "0      0         A/5 21171   7.2500   NaN        S  \n",
      "1      0          PC 17599  71.2833   C85        C  \n",
      "2      0  STON/O2. 3101282   7.9250   NaN        S  \n",
      "3      0            113803  53.1000  C123        S  \n",
      "4      0            373450   8.0500   NaN        S  \n"
     ]
    }
   ],
   "source": [
    "import pandas as pd\n",
    "#加载csv文件\n",
    "df = pd.read_csv(\"E:/PythonProject/Kaggle/Data/titanic/train.csv\")\n",
    "#显示前5行数据\n",
    "print(df.head(5))\n"
   ],
   "metadata": {
    "collapsed": false,
    "ExecuteTime": {
     "end_time": "2024-10-27T12:14:44.002104700Z",
     "start_time": "2024-10-27T12:14:43.708390400Z"
    }
   },
   "id": "1d00acc34ded24bc"
  },
  {
   "cell_type": "markdown",
   "source": [
    "加载训练集和测试集"
   ],
   "metadata": {
    "collapsed": false
   },
   "id": "e418e81522959555"
  },
  {
   "cell_type": "code",
   "execution_count": 4,
   "outputs": [],
   "source": [
    "train_data = pd.read_csv(\"E:/PythonProject/Kaggle/Data/titanic/train.csv\")\n",
    "test_data = pd.read_csv(\"E:/PythonProject/Kaggle/Data/titanic/test.csv\")"
   ],
   "metadata": {
    "collapsed": false,
    "ExecuteTime": {
     "end_time": "2024-10-27T12:19:20.807652300Z",
     "start_time": "2024-10-27T12:19:20.783142800Z"
    }
   },
   "id": "ea90548501bce48b"
  },
  {
   "cell_type": "code",
   "execution_count": null,
   "outputs": [],
   "source": [
    "women = train_data.loc[train_data.Sex =='female']['Survived']\n",
    "rate_women = sum(women)/len(women)"
   ],
   "metadata": {
    "collapsed": false
   },
   "id": "46ee2574d58c928c"
  },
  {
   "cell_type": "markdown",
   "source": [
    "# 2.查看数据类型并进行数据处理"
   ],
   "metadata": {
    "collapsed": false
   },
   "id": "338832b2ccc4ef29"
  },
  {
   "cell_type": "code",
   "execution_count": null,
   "outputs": [],
   "source": [],
   "metadata": {
    "collapsed": false
   },
   "id": "e58f7b4862eedb70"
  }
 ],
 "metadata": {
  "kernelspec": {
   "display_name": "Python 3",
   "language": "python",
   "name": "python3"
  },
  "language_info": {
   "codemirror_mode": {
    "name": "ipython",
    "version": 2
   },
   "file_extension": ".py",
   "mimetype": "text/x-python",
   "name": "python",
   "nbconvert_exporter": "python",
   "pygments_lexer": "ipython2",
   "version": "2.7.6"
  }
 },
 "nbformat": 4,
 "nbformat_minor": 5
}
